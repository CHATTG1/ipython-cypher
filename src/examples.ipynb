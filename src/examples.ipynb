{
 "metadata": {
  "name": "",
  "signature": "sha256:d3f0069d1f834161df281def6b0f063d9877fa561ff9a88eb39453d378cbbfbc"
 },
 "nbformat": 3,
 "nbformat_minor": 0,
 "worksheets": [
  {
   "cells": [
    {
     "cell_type": "code",
     "collapsed": false,
     "input": [
      "%load_ext cypher"
     ],
     "language": "python",
     "metadata": {},
     "outputs": [],
     "prompt_number": 1
    },
    {
     "cell_type": "code",
     "collapsed": false,
     "input": [
      "%config CypherMagic"
     ],
     "language": "python",
     "metadata": {},
     "outputs": [
      {
       "output_type": "stream",
       "stream": "stdout",
       "text": [
        "CypherMagic options\n",
        "-----------------\n",
        "CypherMagic.auto_html=<Bool>\n",
        "    Current: False\n",
        "    Return a D3 representation of the graph instead of regular result sets\n",
        "CypherMagic.auto_limit=<Int>\n",
        "    Current: 0\n",
        "    Automatically limit the size of the returned result sets\n",
        "CypherMagic.auto_networkx=<Bool>\n",
        "    Current: False\n",
        "    Return Networkx MultiDiGraph instead of regular result sets\n",
        "CypherMagic.auto_pandas=<Bool>\n",
        "    Current: False\n",
        "    Return Pandas DataFrame instead of regular result sets\n",
        "CypherMagic.data_contents=<Bool>\n",
        "    Current: True\n",
        "    Bring extra data to render the results as a graph\n",
        "CypherMagic.display_limit=<Int>\n",
        "    Current: 0\n",
        "    Automatically limit the number of rows displayed (full result set is still\n",
        "    stored)\n",
        "CypherMagic.feedback=<Bool>\n",
        "    Current: True\n",
        "    Print number of rows affected\n",
        "CypherMagic.rest=<Bool>\n",
        "    Current: False\n",
        "    Return full REST representations of objects inside the result sets\n",
        "CypherMagic.short_errors=<Bool>\n",
        "    Current: True\n",
        "    Don't display the full traceback on Neo4j errors\n",
        "CypherMagic.style=<Unicode>\n",
        "    Current: u'DEFAULT'\n",
        "    Set the table printing style to any of prettytable's defined styles\n",
        "    (currently DEFAULT, MSWORD_FRIENDLY, PLAIN_COLUMNS, RANDOM)\n"
       ]
      }
     ],
     "prompt_number": 2
    },
    {
     "cell_type": "code",
     "collapsed": false,
     "input": [
      "%cypher optional match (n)-[r]-() delete n, r"
     ],
     "language": "python",
     "metadata": {},
     "outputs": [
      {
       "output_type": "stream",
       "stream": "stdout",
       "text": [
        "6 relationship deleted.\n",
        "6 nodes deleted.\n"
       ]
      },
      {
       "metadata": {},
       "output_type": "pyout",
       "prompt_number": 3,
       "text": [
        "[]"
       ]
      }
     ],
     "prompt_number": 3
    },
    {
     "cell_type": "code",
     "collapsed": false,
     "input": [
      "%%cypher\n",
      "create\n",
      "    // Nodes\n",
      "    (Neo:Crew {name:'Neo'}),\n",
      "    (Morpheus:Crew {name: 'Morpheus'}),\n",
      "    (Trinity:Crew {name: 'Trinity'}),\n",
      "    (Cypher:Crew:Matrix {name: 'Cypher'}),\n",
      "    (Smith:Matrix {name: 'Agent Smith'}),\n",
      "    (Architect:Matrix {name:'The Architect'}),\n",
      "    // Relationships\n",
      "    (Neo)-[:KNOWS]->(Morpheus),\n",
      "    (Neo)-[:LOVES]->(Trinity),\n",
      "    (Morpheus)-[:KNOWS]->(Trinity),\n",
      "    (Morpheus)-[:KNOWS]->(Cypher),\n",
      "    (Cypher)-[:KNOWS]->(Smith),\n",
      "    (Smith)-[:CODED_BY]->(Architect);"
     ],
     "language": "python",
     "metadata": {},
     "outputs": [
      {
       "output_type": "stream",
       "stream": "stdout",
       "text": [
        "7 labels added.\n",
        "6 nodes created.\n",
        "6 properties set.\n",
        "6 relationships created.\n"
       ]
      },
      {
       "metadata": {},
       "output_type": "pyout",
       "prompt_number": 4,
       "text": [
        "[]"
       ]
      }
     ],
     "prompt_number": 4
    },
    {
     "cell_type": "code",
     "collapsed": false,
     "input": [
      "%cypher match (n)-[r]-() return n, count(r) as degree order by degree desc"
     ],
     "language": "python",
     "metadata": {},
     "outputs": [
      {
       "output_type": "stream",
       "stream": "stdout",
       "text": [
        "6 rows affected.\n"
       ]
      },
      {
       "html": [
        "<table>\n",
        "    <tr>\n",
        "        <th>n</th>\n",
        "        <th>degree</th>\n",
        "    </tr>\n",
        "    <tr>\n",
        "        <td>{u'name': u'Morpheus'}</td>\n",
        "        <td>3</td>\n",
        "    </tr>\n",
        "    <tr>\n",
        "        <td>{u'name': u'Cypher'}</td>\n",
        "        <td>2</td>\n",
        "    </tr>\n",
        "    <tr>\n",
        "        <td>{u'name': u'Neo'}</td>\n",
        "        <td>2</td>\n",
        "    </tr>\n",
        "    <tr>\n",
        "        <td>{u'name': u'Trinity'}</td>\n",
        "        <td>2</td>\n",
        "    </tr>\n",
        "    <tr>\n",
        "        <td>{u'name': u'Agent Smith'}</td>\n",
        "        <td>2</td>\n",
        "    </tr>\n",
        "    <tr>\n",
        "        <td>{u'name': u'The Architect'}</td>\n",
        "        <td>1</td>\n",
        "    </tr>\n",
        "</table>"
       ],
       "metadata": {},
       "output_type": "pyout",
       "prompt_number": 5,
       "text": [
        "[[{u'name': u'Morpheus'}, 3],\n",
        " [{u'name': u'Cypher'}, 2],\n",
        " [{u'name': u'Neo'}, 2],\n",
        " [{u'name': u'Trinity'}, 2],\n",
        " [{u'name': u'Agent Smith'}, 2],\n",
        " [{u'name': u'The Architect'}, 1]]"
       ]
      }
     ],
     "prompt_number": 5
    },
    {
     "cell_type": "code",
     "collapsed": false,
     "input": [
      "%matplotlib inline"
     ],
     "language": "python",
     "metadata": {},
     "outputs": [],
     "prompt_number": 6
    },
    {
     "cell_type": "code",
     "collapsed": false,
     "input": [
      "results = %cypher match (n)-[r]-() return n.name as name, count(r) as degree order by degree desc\n",
      "results.dataframe()"
     ],
     "language": "python",
     "metadata": {},
     "outputs": [
      {
       "output_type": "stream",
       "stream": "stdout",
       "text": [
        "6 rows affected.\n"
       ]
      },
      {
       "html": [
        "<div style=\"max-height:1000px;max-width:1500px;overflow:auto;\">\n",
        "<table border=\"1\" class=\"dataframe\">\n",
        "  <thead>\n",
        "    <tr style=\"text-align: right;\">\n",
        "      <th></th>\n",
        "      <th>name</th>\n",
        "      <th>degree</th>\n",
        "    </tr>\n",
        "  </thead>\n",
        "  <tbody>\n",
        "    <tr>\n",
        "      <th>0</th>\n",
        "      <td>      Morpheus</td>\n",
        "      <td> 3</td>\n",
        "    </tr>\n",
        "    <tr>\n",
        "      <th>1</th>\n",
        "      <td>       Trinity</td>\n",
        "      <td> 2</td>\n",
        "    </tr>\n",
        "    <tr>\n",
        "      <th>2</th>\n",
        "      <td>   Agent Smith</td>\n",
        "      <td> 2</td>\n",
        "    </tr>\n",
        "    <tr>\n",
        "      <th>3</th>\n",
        "      <td>           Neo</td>\n",
        "      <td> 2</td>\n",
        "    </tr>\n",
        "    <tr>\n",
        "      <th>4</th>\n",
        "      <td>        Cypher</td>\n",
        "      <td> 2</td>\n",
        "    </tr>\n",
        "    <tr>\n",
        "      <th>5</th>\n",
        "      <td> The Architect</td>\n",
        "      <td> 1</td>\n",
        "    </tr>\n",
        "  </tbody>\n",
        "</table>\n",
        "</div>"
       ],
       "metadata": {},
       "output_type": "pyout",
       "prompt_number": 7,
       "text": [
        "            name  degree\n",
        "0       Morpheus       3\n",
        "1        Trinity       2\n",
        "2    Agent Smith       2\n",
        "3            Neo       2\n",
        "4         Cypher       2\n",
        "5  The Architect       1"
       ]
      }
     ],
     "prompt_number": 7
    },
    {
     "cell_type": "code",
     "collapsed": false,
     "input": [
      "results.plot()"
     ],
     "language": "python",
     "metadata": {},
     "outputs": [
      {
       "metadata": {},
       "output_type": "pyout",
       "prompt_number": 8,
       "text": [
        "[<matplotlib.lines.Line2D at 0x7f23e3e72950>]"
       ]
      },
      {
       "metadata": {},
       "output_type": "display_data",
       "png": "[encoded data removed]",
       "text": [
        "<matplotlib.figure.Figure at 0x7f23e40bb5d0>"
       ]
      }
     ],
     "prompt_number": 8
    },
    {
     "cell_type": "code",
     "collapsed": false,
     "input": [
      "results.bar()"
     ],
     "language": "python",
     "metadata": {},
     "outputs": [
      {
       "metadata": {},
       "output_type": "pyout",
       "prompt_number": 9,
       "text": [
        "<Container object of 6 artists>"
       ]
      },
      {
       "metadata": {},
       "output_type": "display_data",
       "png": "[encoded data removed]",
       "text": [
        "<matplotlib.figure.Figure at 0x7f23e3e23bd0>"
       ]
      }
     ],
     "prompt_number": 9
    },
    {
     "cell_type": "code",
     "collapsed": false,
     "input": [
      "results.pie()"
     ],
     "language": "python",
     "metadata": {},
     "outputs": [
      {
       "metadata": {},
       "output_type": "pyout",
       "prompt_number": 10,
       "text": [
        "([<matplotlib.patches.Wedge at 0x7f23e3c98f90>,\n",
        "  <matplotlib.patches.Wedge at 0x7f23e3ca69d0>,\n",
        "  <matplotlib.patches.Wedge at 0x7f23e3cb2390>,\n",
        "  <matplotlib.patches.Wedge at 0x7f23e3cb2d10>,\n",
        "  <matplotlib.patches.Wedge at 0x7f23e3cbe6d0>,\n",
        "  <matplotlib.patches.Wedge at 0x7f23e3ccb090>],\n",
        " [<matplotlib.text.Text at 0x7f23e3ca6590>,\n",
        "  <matplotlib.text.Text at 0x7f23e3ca6f90>,\n",
        "  <matplotlib.text.Text at 0x7f23e3cb2950>,\n",
        "  <matplotlib.text.Text at 0x7f23e3cbe310>,\n",
        "  <matplotlib.text.Text at 0x7f23e3cbec90>,\n",
        "  <matplotlib.text.Text at 0x7f23e3ccb650>])"
       ]
      },
      {
       "metadata": {},
       "output_type": "display_data",
       "png": "[encoded data removed]",
       "text": [
        "<matplotlib.figure.Figure at 0x7f23e3df2110>"
       ]
      }
     ],
     "prompt_number": 10
    },
    {
     "cell_type": "code",
     "collapsed": false,
     "input": [
      "for i in range(1, 5):\n",
      "    %cypher match (n) return n, n.name limit {i}"
     ],
     "language": "python",
     "metadata": {},
     "outputs": [
      {
       "output_type": "stream",
       "stream": "stdout",
       "text": [
        "1 rows affected.\n",
        "2 rows affected.\n",
        "3 rows affected.\n",
        "4 rows affected."
       ]
      },
      {
       "output_type": "stream",
       "stream": "stdout",
       "text": [
        "\n"
       ]
      }
     ],
     "prompt_number": 11
    },
    {
     "cell_type": "code",
     "collapsed": false,
     "input": [
      "results = %cypher match (n)-[r]-() return n.name as name, n, r, count(r) as degree order by degree desc"
     ],
     "language": "python",
     "metadata": {},
     "outputs": [
      {
       "output_type": "stream",
       "stream": "stdout",
       "text": [
        "12 rows affected.\n"
       ]
      }
     ],
     "prompt_number": 12
    },
    {
     "cell_type": "code",
     "collapsed": false,
     "input": [
      "results.draw()"
     ],
     "language": "python",
     "metadata": {},
     "outputs": [
      {
       "metadata": {},
       "output_type": "pyout",
       "prompt_number": 13,
       "text": [
        "(<networkx.classes.multidigraph.MultiDiGraph at 0x7f23e3c5a510>,\n",
        " <matplotlib.axes._subplots.AxesSubplot at 0x7f23e3ccba90>,\n",
        " <matplotlib.collections.PathCollection at 0x7f23e3c06050>)"
       ]
      },
      {
       "output_type": "stream",
       "stream": "stderr",
       "text": [
        "/home/versae/.venvs/ipython-cypher/local/lib/python2.7/site-packages/matplotlib/text.py:52: UnicodeWarning: Unicode equal comparison failed to convert both arguments to Unicode - interpreting them as being unequal\n",
        "  if rotation in ('horizontal', None):\n",
        "/home/versae/.venvs/ipython-cypher/local/lib/python2.7/site-packages/matplotlib/text.py:54: UnicodeWarning: Unicode equal comparison failed to convert both arguments to Unicode - interpreting them as being unequal\n",
        "  elif rotation == 'vertical':\n"
       ]
      },
      {
       "metadata": {},
       "output_type": "display_data",
       "png": "[encoded data removed]",
       "text": [
        "<matplotlib.figure.Figure at 0x7f23e3df28d0>"
       ]
      }
     ],
     "prompt_number": 13
    }
   ],
   "metadata": {}
  }
 ]
}