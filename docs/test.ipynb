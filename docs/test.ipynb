{
 "metadata": {
  "name": "",
  "signature": "sha256:f437049cca27916d9f21430af1d51eac748b9e72f4b2a5b52cff78c1dc0e6b65"
 },
 "nbformat": 3,
 "nbformat_minor": 0,
 "worksheets": [
  {
   "cells": [
    {
     "cell_type": "code",
     "collapsed": false,
     "input": [
      "%load_ext cypher"
     ],
     "language": "python",
     "metadata": {},
     "outputs": [],
     "prompt_number": 1
    },
    {
     "cell_type": "code",
     "collapsed": false,
     "input": [
      "%config CypherMagic"
     ],
     "language": "python",
     "metadata": {},
     "outputs": [
      {
       "output_type": "stream",
       "stream": "stdout",
       "text": [
        "CypherMagic options\n",
        "-----------------\n",
        "CypherMagic.auto_html=<Bool>\n",
        "    Current: False\n",
        "    Return a D3 representation of the graph instead of regular result sets\n",
        "CypherMagic.auto_limit=<Int>\n",
        "    Current: 0\n",
        "    Automatically limit the size of the returned result sets\n",
        "CypherMagic.auto_networkx=<Bool>\n",
        "    Current: False\n",
        "    Return Networkx MultiDiGraph instead of regular result sets\n",
        "CypherMagic.auto_pandas=<Bool>\n",
        "    Current: False\n",
        "    Return Pandas DataFrame instead of regular result sets\n",
        "CypherMagic.data_contents=<Bool>\n",
        "    Current: True\n",
        "    Bring extra data to render the results as a graph\n",
        "CypherMagic.display_limit=<Int>\n",
        "    Current: 0\n",
        "    Automatically limit the number of rows displayed (full result set is still\n",
        "    stored)\n",
        "CypherMagic.feedback=<Bool>\n",
        "    Current: True\n",
        "    Print number of rows affected\n",
        "CypherMagic.rest=<Bool>\n",
        "    Current: False\n",
        "    Return full REST representations of objects inside the result sets\n",
        "CypherMagic.short_errors=<Bool>\n",
        "    Current: True\n",
        "    Don't display the full traceback on Neo4j errors\n",
        "CypherMagic.style=<Unicode>\n",
        "    Current: u'DEFAULT'\n",
        "    Set the table printing style to any of prettytable's defined styles\n",
        "    (currently DEFAULT, MSWORD_FRIENDLY, PLAIN_COLUMNS, RANDOM)\n"
       ]
      }
     ],
     "prompt_number": 2
    },
    {
     "cell_type": "code",
     "collapsed": false,
     "input": [
      "%cypher match (n)-[r]-() delete n, r"
     ],
     "language": "python",
     "metadata": {},
     "outputs": [
      {
       "output_type": "stream",
       "stream": "stdout",
       "text": [
        "6 relationship deleted.\n",
        "6 nodes deleted.\n"
       ]
      },
      {
       "metadata": {},
       "output_type": "pyout",
       "prompt_number": 3,
       "text": [
        "[]"
       ]
      }
     ],
     "prompt_number": 3
    },
    {
     "cell_type": "code",
     "collapsed": false,
     "input": [
      "%%cypher\n",
      "create\n",
      "    // Nodes\n",
      "    (Neo:Crew {name:'Neo'}),\n",
      "    (Morpheus:Crew {name: 'Morpheus'}),\n",
      "    (Trinity:Crew {name: 'Trinity'}),\n",
      "    (Cypher:Crew:Matrix {name: 'Cypher'}),\n",
      "    (Smith:Matrix {name: 'Agent Smith'}),\n",
      "    (Architect:Matrix {name:'The Architect'}),\n",
      "    // Relationships\n",
      "    (Neo)-[:KNOWS]->(Morpheus),\n",
      "    (Neo)-[:LOVES]->(Trinity),\n",
      "    (Morpheus)-[:KNOWS]->(Trinity),\n",
      "    (Morpheus)-[:KNOWS]->(Cypher),\n",
      "    (Cypher)-[:KNOWS]->(Smith),\n",
      "    (Smith)-[:CODED_BY]->(Architect);"
     ],
     "language": "python",
     "metadata": {},
     "outputs": [
      {
       "output_type": "stream",
       "stream": "stdout",
       "text": [
        "7 labels added.\n",
        "6 nodes created.\n",
        "6 properties set.\n",
        "6 relationships created.\n"
       ]
      },
      {
       "metadata": {},
       "output_type": "pyout",
       "prompt_number": 4,
       "text": [
        "[]"
       ]
      }
     ],
     "prompt_number": 4
    },
    {
     "cell_type": "code",
     "collapsed": false,
     "input": [
      "%cypher match (n)-[r]-() return n, count(r) as degree order by degree desc"
     ],
     "language": "python",
     "metadata": {},
     "outputs": [
      {
       "output_type": "stream",
       "stream": "stdout",
       "text": [
        "6 rows affected.\n"
       ]
      },
      {
       "html": [
        "<table>\n",
        "    <tr>\n",
        "        <th>n</th>\n",
        "        <th>degree</th>\n",
        "    </tr>\n",
        "    <tr>\n",
        "        <td>{u'name': u'Morpheus'}</td>\n",
        "        <td>3</td>\n",
        "    </tr>\n",
        "    <tr>\n",
        "        <td>{u'name': u'Neo'}</td>\n",
        "        <td>2</td>\n",
        "    </tr>\n",
        "    <tr>\n",
        "        <td>{u'name': u'Agent Smith'}</td>\n",
        "        <td>2</td>\n",
        "    </tr>\n",
        "    <tr>\n",
        "        <td>{u'name': u'Cypher'}</td>\n",
        "        <td>2</td>\n",
        "    </tr>\n",
        "    <tr>\n",
        "        <td>{u'name': u'Trinity'}</td>\n",
        "        <td>2</td>\n",
        "    </tr>\n",
        "    <tr>\n",
        "        <td>{u'name': u'The Architect'}</td>\n",
        "        <td>1</td>\n",
        "    </tr>\n",
        "</table>"
       ],
       "metadata": {},
       "output_type": "pyout",
       "prompt_number": 5,
       "text": [
        "[[{u'name': u'Morpheus'}, 3],\n",
        " [{u'name': u'Neo'}, 2],\n",
        " [{u'name': u'Agent Smith'}, 2],\n",
        " [{u'name': u'Cypher'}, 2],\n",
        " [{u'name': u'Trinity'}, 2],\n",
        " [{u'name': u'The Architect'}, 1]]"
       ]
      }
     ],
     "prompt_number": 5
    },
    {
     "cell_type": "code",
     "collapsed": false,
     "input": [
      "results = %cypher match (n)-[r]-() return n.name as name, type(r) as rel, count(r) as degree order by degree desc"
     ],
     "language": "python",
     "metadata": {},
     "outputs": [
      {
       "output_type": "stream",
       "stream": "stdout",
       "text": [
        "9 rows affected.\n"
       ]
      }
     ],
     "prompt_number": 6
    },
    {
     "cell_type": "code",
     "collapsed": false,
     "input": [
      "%matplotlib inline"
     ],
     "language": "python",
     "metadata": {},
     "outputs": [],
     "prompt_number": 7
    },
    {
     "cell_type": "code",
     "collapsed": false,
     "input": [
      "results.get_dataframe()"
     ],
     "language": "python",
     "metadata": {},
     "outputs": [
      {
       "html": [
        "<div style=\"max-height:1000px;max-width:1500px;overflow:auto;\">\n",
        "<table border=\"1\" class=\"dataframe\">\n",
        "  <thead>\n",
        "    <tr style=\"text-align: right;\">\n",
        "      <th></th>\n",
        "      <th>name</th>\n",
        "      <th>rel</th>\n",
        "      <th>degree</th>\n",
        "    </tr>\n",
        "  </thead>\n",
        "  <tbody>\n",
        "    <tr>\n",
        "      <th>0</th>\n",
        "      <td>      Morpheus</td>\n",
        "      <td>    KNOWS</td>\n",
        "      <td> 3</td>\n",
        "    </tr>\n",
        "    <tr>\n",
        "      <th>1</th>\n",
        "      <td>        Cypher</td>\n",
        "      <td>    KNOWS</td>\n",
        "      <td> 2</td>\n",
        "    </tr>\n",
        "    <tr>\n",
        "      <th>2</th>\n",
        "      <td>   Agent Smith</td>\n",
        "      <td>    KNOWS</td>\n",
        "      <td> 1</td>\n",
        "    </tr>\n",
        "    <tr>\n",
        "      <th>3</th>\n",
        "      <td>           Neo</td>\n",
        "      <td>    LOVES</td>\n",
        "      <td> 1</td>\n",
        "    </tr>\n",
        "    <tr>\n",
        "      <th>4</th>\n",
        "      <td>       Trinity</td>\n",
        "      <td>    LOVES</td>\n",
        "      <td> 1</td>\n",
        "    </tr>\n",
        "    <tr>\n",
        "      <th>5</th>\n",
        "      <td>           Neo</td>\n",
        "      <td>    KNOWS</td>\n",
        "      <td> 1</td>\n",
        "    </tr>\n",
        "    <tr>\n",
        "      <th>6</th>\n",
        "      <td>       Trinity</td>\n",
        "      <td>    KNOWS</td>\n",
        "      <td> 1</td>\n",
        "    </tr>\n",
        "    <tr>\n",
        "      <th>7</th>\n",
        "      <td> The Architect</td>\n",
        "      <td> CODED_BY</td>\n",
        "      <td> 1</td>\n",
        "    </tr>\n",
        "    <tr>\n",
        "      <th>8</th>\n",
        "      <td>   Agent Smith</td>\n",
        "      <td> CODED_BY</td>\n",
        "      <td> 1</td>\n",
        "    </tr>\n",
        "  </tbody>\n",
        "</table>\n",
        "</div>"
       ],
       "metadata": {},
       "output_type": "pyout",
       "prompt_number": 8,
       "text": [
        "            name       rel  degree\n",
        "0       Morpheus     KNOWS       3\n",
        "1         Cypher     KNOWS       2\n",
        "2    Agent Smith     KNOWS       1\n",
        "3            Neo     LOVES       1\n",
        "4        Trinity     LOVES       1\n",
        "5            Neo     KNOWS       1\n",
        "6        Trinity     KNOWS       1\n",
        "7  The Architect  CODED_BY       1\n",
        "8    Agent Smith  CODED_BY       1"
       ]
      }
     ],
     "prompt_number": 8
    },
    {
     "cell_type": "code",
     "collapsed": false,
     "input": [
      "results.plot()"
     ],
     "language": "python",
     "metadata": {},
     "outputs": [
      {
       "metadata": {},
       "output_type": "pyout",
       "prompt_number": 9,
       "text": [
        "[<matplotlib.lines.Line2D at 0x7f03e207b410>]"
       ]
      },
      {
       "metadata": {},
       "output_type": "display_data",
       "png": "[encoded data removed]",
       "text": [
        "<matplotlib.figure.Figure at 0x7f03e22c74d0>"
       ]
      }
     ],
     "prompt_number": 9
    },
    {
     "cell_type": "code",
     "collapsed": false,
     "input": [
      "results.bar()"
     ],
     "language": "python",
     "metadata": {},
     "outputs": [
      {
       "metadata": {},
       "output_type": "pyout",
       "prompt_number": 10,
       "text": [
        "<Container object of 9 artists>"
       ]
      },
      {
       "metadata": {},
       "output_type": "display_data",
       "png": "[encoded data removed]",
       "text": [
        "<matplotlib.figure.Figure at 0x7f03e202e450>"
       ]
      }
     ],
     "prompt_number": 10
    },
    {
     "cell_type": "code",
     "collapsed": false,
     "input": [
      "results.pie()"
     ],
     "language": "python",
     "metadata": {},
     "outputs": [
      {
       "metadata": {},
       "output_type": "pyout",
       "prompt_number": 11,
       "text": [
        "([<matplotlib.patches.Wedge at 0x7f03e1ec9f90>,\n",
        "  <matplotlib.patches.Wedge at 0x7f03e1e58a50>,\n",
        "  <matplotlib.patches.Wedge at 0x7f03e1e63410>,\n",
        "  <matplotlib.patches.Wedge at 0x7f03e1e63d90>,\n",
        "  <matplotlib.patches.Wedge at 0x7f03e1e70750>,\n",
        "  <matplotlib.patches.Wedge at 0x7f03e1e7d110>,\n",
        "  <matplotlib.patches.Wedge at 0x7f03e1e7da90>,\n",
        "  <matplotlib.patches.Wedge at 0x7f03e1e8a450>,\n",
        "  <matplotlib.patches.Wedge at 0x7f03e1e8add0>],\n",
        " [<matplotlib.text.Text at 0x7f03e1e584d0>,\n",
        "  <matplotlib.text.Text at 0x7f03e1e58fd0>,\n",
        "  <matplotlib.text.Text at 0x7f03e1e63990>,\n",
        "  <matplotlib.text.Text at 0x7f03e1e70350>,\n",
        "  <matplotlib.text.Text at 0x7f03e1e70cd0>,\n",
        "  <matplotlib.text.Text at 0x7f03e1e7d690>,\n",
        "  <matplotlib.text.Text at 0x7f03e1e7df50>,\n",
        "  <matplotlib.text.Text at 0x7f03e1e8a9d0>,\n",
        "  <matplotlib.text.Text at 0x7f03e1e16390>])"
       ]
      },
      {
       "metadata": {},
       "output_type": "display_data",
       "png": "[encoded data removed]",
       "text": [
        "<matplotlib.figure.Figure at 0x7f03e1f49610>"
       ]
      }
     ],
     "prompt_number": 11
    },
    {
     "cell_type": "code",
     "collapsed": false,
     "input": [
      "for i in range(1, 5):\n",
      "    %cypher match (n) return n, n.name limit {i}"
     ],
     "language": "python",
     "metadata": {},
     "outputs": [
      {
       "output_type": "stream",
       "stream": "stdout",
       "text": [
        "1 rows affected.\n",
        "2 rows affected.\n",
        "3 rows affected."
       ]
      },
      {
       "output_type": "stream",
       "stream": "stdout",
       "text": [
        "\n",
        "4 rows affected.\n"
       ]
      }
     ],
     "prompt_number": 12
    },
    {
     "cell_type": "code",
     "collapsed": false,
     "input": [
      "results.draw()"
     ],
     "language": "python",
     "metadata": {},
     "outputs": [
      {
       "metadata": {},
       "output_type": "pyout",
       "prompt_number": 13,
       "text": [
        "(<networkx.classes.multidigraph.MultiDiGraph at 0x7f03e1e254d0>,\n",
        " <matplotlib.axes._subplots.AxesSubplot at 0x7f03e1f32810>,\n",
        " None)"
       ]
      },
      {
       "metadata": {},
       "output_type": "display_data",
       "png": "[encoded data removed]",
       "text": [
        "<matplotlib.figure.Figure at 0x7f03e1e25c90>"
       ]
      }
     ],
     "prompt_number": 13
    },
    {
     "cell_type": "code",
     "collapsed": false,
     "input": [
      "results.graph"
     ],
     "language": "python",
     "metadata": {},
     "outputs": [
      {
       "metadata": {},
       "output_type": "pyout",
       "prompt_number": 14,
       "text": [
        "<networkx.classes.multidigraph.MultiDiGraph at 0x7f03e1db6890>"
       ]
      }
     ],
     "prompt_number": 14
    },
    {
     "cell_type": "code",
     "collapsed": false,
     "input": [
      "results.dataframe"
     ],
     "language": "python",
     "metadata": {},
     "outputs": [
      {
       "html": [
        "<div style=\"max-height:1000px;max-width:1500px;overflow:auto;\">\n",
        "<table border=\"1\" class=\"dataframe\">\n",
        "  <thead>\n",
        "    <tr style=\"text-align: right;\">\n",
        "      <th></th>\n",
        "      <th>name</th>\n",
        "      <th>rel</th>\n",
        "      <th>degree</th>\n",
        "    </tr>\n",
        "  </thead>\n",
        "  <tbody>\n",
        "    <tr>\n",
        "      <th>0</th>\n",
        "      <td>      Morpheus</td>\n",
        "      <td>    KNOWS</td>\n",
        "      <td> 3</td>\n",
        "    </tr>\n",
        "    <tr>\n",
        "      <th>1</th>\n",
        "      <td>        Cypher</td>\n",
        "      <td>    KNOWS</td>\n",
        "      <td> 2</td>\n",
        "    </tr>\n",
        "    <tr>\n",
        "      <th>2</th>\n",
        "      <td>   Agent Smith</td>\n",
        "      <td>    KNOWS</td>\n",
        "      <td> 1</td>\n",
        "    </tr>\n",
        "    <tr>\n",
        "      <th>3</th>\n",
        "      <td>           Neo</td>\n",
        "      <td>    LOVES</td>\n",
        "      <td> 1</td>\n",
        "    </tr>\n",
        "    <tr>\n",
        "      <th>4</th>\n",
        "      <td>       Trinity</td>\n",
        "      <td>    LOVES</td>\n",
        "      <td> 1</td>\n",
        "    </tr>\n",
        "    <tr>\n",
        "      <th>5</th>\n",
        "      <td>           Neo</td>\n",
        "      <td>    KNOWS</td>\n",
        "      <td> 1</td>\n",
        "    </tr>\n",
        "    <tr>\n",
        "      <th>6</th>\n",
        "      <td>       Trinity</td>\n",
        "      <td>    KNOWS</td>\n",
        "      <td> 1</td>\n",
        "    </tr>\n",
        "    <tr>\n",
        "      <th>7</th>\n",
        "      <td> The Architect</td>\n",
        "      <td> CODED_BY</td>\n",
        "      <td> 1</td>\n",
        "    </tr>\n",
        "    <tr>\n",
        "      <th>8</th>\n",
        "      <td>   Agent Smith</td>\n",
        "      <td> CODED_BY</td>\n",
        "      <td> 1</td>\n",
        "    </tr>\n",
        "  </tbody>\n",
        "</table>\n",
        "</div>"
       ],
       "metadata": {},
       "output_type": "pyout",
       "prompt_number": 15,
       "text": [
        "            name       rel  degree\n",
        "0       Morpheus     KNOWS       3\n",
        "1         Cypher     KNOWS       2\n",
        "2    Agent Smith     KNOWS       1\n",
        "3            Neo     LOVES       1\n",
        "4        Trinity     LOVES       1\n",
        "5            Neo     KNOWS       1\n",
        "6        Trinity     KNOWS       1\n",
        "7  The Architect  CODED_BY       1\n",
        "8    Agent Smith  CODED_BY       1"
       ]
      }
     ],
     "prompt_number": 15
    },
    {
     "cell_type": "code",
     "collapsed": false,
     "input": [
      "print(results.csv())"
     ],
     "language": "python",
     "metadata": {},
     "outputs": [
      {
       "output_type": "stream",
       "stream": "stdout",
       "text": [
        "name,rel,degree\r\n",
        "Morpheus,KNOWS,3\r\n",
        "Cypher,KNOWS,2\r\n",
        "Agent Smith,KNOWS,1\r\n",
        "Neo,LOVES,1\r\n",
        "Trinity,LOVES,1\r\n",
        "Neo,KNOWS,1\r\n",
        "Trinity,KNOWS,1\r\n",
        "The Architect,CODED_BY,1\r\n",
        "Agent Smith,CODED_BY,1\r\n",
        "\n"
       ]
      }
     ],
     "prompt_number": 16
    },
    {
     "cell_type": "code",
     "collapsed": false,
     "input": [
      "from cypher import run\n",
      "run(\"match (n)-[r]-() return n.name as name, type(r) as rel, count(r) as degree order by degree desc\")"
     ],
     "language": "python",
     "metadata": {},
     "outputs": [
      {
       "output_type": "stream",
       "stream": "stdout",
       "text": [
        "9 rows affected.\n"
       ]
      },
      {
       "html": [
        "<table>\n",
        "    <tr>\n",
        "        <th>name</th>\n",
        "        <th>rel</th>\n",
        "        <th>degree</th>\n",
        "    </tr>\n",
        "    <tr>\n",
        "        <td>Morpheus</td>\n",
        "        <td>KNOWS</td>\n",
        "        <td>3</td>\n",
        "    </tr>\n",
        "    <tr>\n",
        "        <td>Cypher</td>\n",
        "        <td>KNOWS</td>\n",
        "        <td>2</td>\n",
        "    </tr>\n",
        "    <tr>\n",
        "        <td>Agent Smith</td>\n",
        "        <td>KNOWS</td>\n",
        "        <td>1</td>\n",
        "    </tr>\n",
        "    <tr>\n",
        "        <td>Neo</td>\n",
        "        <td>LOVES</td>\n",
        "        <td>1</td>\n",
        "    </tr>\n",
        "    <tr>\n",
        "        <td>Trinity</td>\n",
        "        <td>LOVES</td>\n",
        "        <td>1</td>\n",
        "    </tr>\n",
        "    <tr>\n",
        "        <td>Neo</td>\n",
        "        <td>KNOWS</td>\n",
        "        <td>1</td>\n",
        "    </tr>\n",
        "    <tr>\n",
        "        <td>Trinity</td>\n",
        "        <td>KNOWS</td>\n",
        "        <td>1</td>\n",
        "    </tr>\n",
        "    <tr>\n",
        "        <td>The Architect</td>\n",
        "        <td>CODED_BY</td>\n",
        "        <td>1</td>\n",
        "    </tr>\n",
        "    <tr>\n",
        "        <td>Agent Smith</td>\n",
        "        <td>CODED_BY</td>\n",
        "        <td>1</td>\n",
        "    </tr>\n",
        "</table>"
       ],
       "metadata": {},
       "output_type": "pyout",
       "prompt_number": 17,
       "text": [
        "[[u'Morpheus', u'KNOWS', 3],\n",
        " [u'Cypher', u'KNOWS', 2],\n",
        " [u'Agent Smith', u'KNOWS', 1],\n",
        " [u'Neo', u'LOVES', 1],\n",
        " [u'Trinity', u'LOVES', 1],\n",
        " [u'Neo', u'KNOWS', 1],\n",
        " [u'Trinity', u'KNOWS', 1],\n",
        " [u'The Architect', u'CODED_BY', 1],\n",
        " [u'Agent Smith', u'CODED_BY', 1]]"
       ]
      }
     ],
     "prompt_number": 17
    }
   ],
   "metadata": {}
  }
 ]
}